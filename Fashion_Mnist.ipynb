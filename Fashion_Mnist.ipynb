{
  "nbformat": 4,
  "nbformat_minor": 0,
  "metadata": {
    "colab": {
      "name": "Fashion_Mnist.ipynb",
      "provenance": [],
      "collapsed_sections": []
    },
    "kernelspec": {
      "name": "python3",
      "display_name": "Python 3"
    }
  },
  "cells": [
    {
      "cell_type": "code",
      "metadata": {
        "id": "WsBFpEp825ht"
      },
      "source": [
        "import tensorflow as tf\r\n",
        "import pandas as pd\r\n",
        "import numpy as np\r\n",
        "from tensorflow.keras.datasets import fashion_mnist"
      ],
      "execution_count": 19,
      "outputs": []
    },
    {
      "cell_type": "markdown",
      "metadata": {
        "id": "g9EuSi3t_sRX"
      },
      "source": [
        "## Loading Data"
      ]
    },
    {
      "cell_type": "code",
      "metadata": {
        "id": "SqLpR3UH27Yj"
      },
      "source": [
        "(X_train,y_train),(X_test,y_test) = fashion_mnist.load_data()"
      ],
      "execution_count": 20,
      "outputs": []
    },
    {
      "cell_type": "code",
      "metadata": {
        "colab": {
          "base_uri": "https://localhost:8080/"
        },
        "id": "LzMNhW5f4t0a",
        "outputId": "62172762-cbda-4fb4-9758-5f06899494a3"
      },
      "source": [
        "X_train.shape,X_test.shape,y_train.shape,y_test.shape"
      ],
      "execution_count": 21,
      "outputs": [
        {
          "output_type": "execute_result",
          "data": {
            "text/plain": [
              "((60000, 28, 28), (10000, 28, 28), (60000,), (10000,))"
            ]
          },
          "metadata": {
            "tags": []
          },
          "execution_count": 21
        }
      ]
    },
    {
      "cell_type": "code",
      "metadata": {
        "id": "wrzecTwu424K"
      },
      "source": [
        "\r\n",
        "X_train = X_train/255.0\r\n",
        "X_test = X_test/255.0\r\n"
      ],
      "execution_count": 22,
      "outputs": []
    },
    {
      "cell_type": "code",
      "metadata": {
        "id": "DmCi60Fv46Xh"
      },
      "source": [
        "\r\n",
        "X_train = X_train.reshape(-1,28*28)\r\n",
        "X_test = X_test.reshape(-1,28*28)"
      ],
      "execution_count": 23,
      "outputs": []
    },
    {
      "cell_type": "markdown",
      "metadata": {
        "id": "xT0J9PEq_0eF"
      },
      "source": [
        "## Model Building"
      ]
    },
    {
      "cell_type": "code",
      "metadata": {
        "id": "fJmjBaPi48dK"
      },
      "source": [
        "model = tf.keras.models.Sequential()\r\n",
        "model.add(tf.keras.layers.Flatten())\r\n",
        "model.add(tf.keras.layers.Dropout(0.3))\r\n",
        "                                  "
      ],
      "execution_count": 24,
      "outputs": []
    },
    {
      "cell_type": "code",
      "metadata": {
        "id": "UsrnIk7R5CmZ"
      },
      "source": [
        "model.add(tf.keras.layers.Dense(units = 64,activation='relu'))"
      ],
      "execution_count": 25,
      "outputs": []
    },
    {
      "cell_type": "code",
      "metadata": {
        "id": "iVKcWlCt9WJd"
      },
      "source": [
        "model.add(tf.keras.layers.Dense(units=10,activation='sigmoid'))"
      ],
      "execution_count": 26,
      "outputs": []
    },
    {
      "cell_type": "code",
      "metadata": {
        "id": "gLPNapN290Yt"
      },
      "source": [
        "model.compile(optimizer='adam',loss = 'sparse_categorical_crossentropy',metrics = ['sparse_categorical_accuracy'])\r\n"
      ],
      "execution_count": 27,
      "outputs": []
    },
    {
      "cell_type": "markdown",
      "metadata": {
        "id": "8_yHFho6_60a"
      },
      "source": [
        "## Training"
      ]
    },
    {
      "cell_type": "code",
      "metadata": {
        "colab": {
          "base_uri": "https://localhost:8080/"
        },
        "id": "w9Rx-kZQ95pX",
        "outputId": "dfaa7a46-3ddd-49bf-acfb-c600ff755d6c"
      },
      "source": [
        "model.fit(X_train,y_train,batch_size=150, epochs = 100)"
      ],
      "execution_count": 29,
      "outputs": [
        {
          "output_type": "stream",
          "text": [
            "Epoch 1/100\n",
            "400/400 [==============================] - 2s 4ms/step - loss: 0.8915 - sparse_categorical_accuracy: 0.6899\n",
            "Epoch 2/100\n",
            "400/400 [==============================] - 1s 4ms/step - loss: 0.5110 - sparse_categorical_accuracy: 0.8193\n",
            "Epoch 3/100\n",
            "400/400 [==============================] - 1s 4ms/step - loss: 0.4630 - sparse_categorical_accuracy: 0.8343\n",
            "Epoch 4/100\n",
            "400/400 [==============================] - 1s 4ms/step - loss: 0.4437 - sparse_categorical_accuracy: 0.8408\n",
            "Epoch 5/100\n",
            "400/400 [==============================] - 1s 4ms/step - loss: 0.4252 - sparse_categorical_accuracy: 0.8485\n",
            "Epoch 6/100\n",
            "400/400 [==============================] - 1s 4ms/step - loss: 0.4044 - sparse_categorical_accuracy: 0.8513\n",
            "Epoch 7/100\n",
            "400/400 [==============================] - 1s 4ms/step - loss: 0.3857 - sparse_categorical_accuracy: 0.8598\n",
            "Epoch 8/100\n",
            "400/400 [==============================] - 1s 4ms/step - loss: 0.3828 - sparse_categorical_accuracy: 0.8588\n",
            "Epoch 9/100\n",
            "400/400 [==============================] - 1s 4ms/step - loss: 0.3727 - sparse_categorical_accuracy: 0.8629\n",
            "Epoch 10/100\n",
            "400/400 [==============================] - 1s 4ms/step - loss: 0.3613 - sparse_categorical_accuracy: 0.8686\n",
            "Epoch 11/100\n",
            "400/400 [==============================] - 1s 4ms/step - loss: 0.3598 - sparse_categorical_accuracy: 0.8684\n",
            "Epoch 12/100\n",
            "400/400 [==============================] - 1s 4ms/step - loss: 0.3502 - sparse_categorical_accuracy: 0.8712\n",
            "Epoch 13/100\n",
            "400/400 [==============================] - 1s 4ms/step - loss: 0.3518 - sparse_categorical_accuracy: 0.8723\n",
            "Epoch 14/100\n",
            "400/400 [==============================] - 1s 4ms/step - loss: 0.3401 - sparse_categorical_accuracy: 0.8760\n",
            "Epoch 15/100\n",
            "400/400 [==============================] - 1s 4ms/step - loss: 0.3428 - sparse_categorical_accuracy: 0.8741\n",
            "Epoch 16/100\n",
            "400/400 [==============================] - 1s 4ms/step - loss: 0.3358 - sparse_categorical_accuracy: 0.8773\n",
            "Epoch 17/100\n",
            "400/400 [==============================] - 1s 4ms/step - loss: 0.3274 - sparse_categorical_accuracy: 0.8790\n",
            "Epoch 18/100\n",
            "400/400 [==============================] - 1s 4ms/step - loss: 0.3296 - sparse_categorical_accuracy: 0.8773\n",
            "Epoch 19/100\n",
            "400/400 [==============================] - 1s 4ms/step - loss: 0.3190 - sparse_categorical_accuracy: 0.8819\n",
            "Epoch 20/100\n",
            "400/400 [==============================] - 1s 4ms/step - loss: 0.3220 - sparse_categorical_accuracy: 0.8810\n",
            "Epoch 21/100\n",
            "400/400 [==============================] - 1s 4ms/step - loss: 0.3259 - sparse_categorical_accuracy: 0.8785\n",
            "Epoch 22/100\n",
            "400/400 [==============================] - 1s 4ms/step - loss: 0.3158 - sparse_categorical_accuracy: 0.8827\n",
            "Epoch 23/100\n",
            "400/400 [==============================] - 1s 4ms/step - loss: 0.3149 - sparse_categorical_accuracy: 0.8832\n",
            "Epoch 24/100\n",
            "400/400 [==============================] - 1s 4ms/step - loss: 0.3178 - sparse_categorical_accuracy: 0.8803\n",
            "Epoch 25/100\n",
            "400/400 [==============================] - 1s 4ms/step - loss: 0.3134 - sparse_categorical_accuracy: 0.8821\n",
            "Epoch 26/100\n",
            "400/400 [==============================] - 1s 4ms/step - loss: 0.3145 - sparse_categorical_accuracy: 0.8829\n",
            "Epoch 27/100\n",
            "400/400 [==============================] - 1s 4ms/step - loss: 0.3060 - sparse_categorical_accuracy: 0.8861\n",
            "Epoch 28/100\n",
            "400/400 [==============================] - 1s 4ms/step - loss: 0.3049 - sparse_categorical_accuracy: 0.8876\n",
            "Epoch 29/100\n",
            "400/400 [==============================] - 2s 4ms/step - loss: 0.3050 - sparse_categorical_accuracy: 0.8858\n",
            "Epoch 30/100\n",
            "400/400 [==============================] - 1s 4ms/step - loss: 0.3033 - sparse_categorical_accuracy: 0.8870\n",
            "Epoch 31/100\n",
            "400/400 [==============================] - 1s 4ms/step - loss: 0.3000 - sparse_categorical_accuracy: 0.8887\n",
            "Epoch 32/100\n",
            "400/400 [==============================] - 1s 4ms/step - loss: 0.2989 - sparse_categorical_accuracy: 0.8882\n",
            "Epoch 33/100\n",
            "400/400 [==============================] - 1s 4ms/step - loss: 0.2972 - sparse_categorical_accuracy: 0.8892\n",
            "Epoch 34/100\n",
            "400/400 [==============================] - 1s 4ms/step - loss: 0.2936 - sparse_categorical_accuracy: 0.8923\n",
            "Epoch 35/100\n",
            "400/400 [==============================] - 1s 4ms/step - loss: 0.2992 - sparse_categorical_accuracy: 0.8892\n",
            "Epoch 36/100\n",
            "400/400 [==============================] - 1s 4ms/step - loss: 0.3002 - sparse_categorical_accuracy: 0.8886\n",
            "Epoch 37/100\n",
            "400/400 [==============================] - 1s 4ms/step - loss: 0.2901 - sparse_categorical_accuracy: 0.8907\n",
            "Epoch 38/100\n",
            "400/400 [==============================] - 1s 4ms/step - loss: 0.2934 - sparse_categorical_accuracy: 0.8879\n",
            "Epoch 39/100\n",
            "400/400 [==============================] - 1s 4ms/step - loss: 0.2955 - sparse_categorical_accuracy: 0.8905\n",
            "Epoch 40/100\n",
            "400/400 [==============================] - 1s 4ms/step - loss: 0.2902 - sparse_categorical_accuracy: 0.8897\n",
            "Epoch 41/100\n",
            "400/400 [==============================] - 1s 4ms/step - loss: 0.2906 - sparse_categorical_accuracy: 0.8909\n",
            "Epoch 42/100\n",
            "400/400 [==============================] - 2s 4ms/step - loss: 0.2884 - sparse_categorical_accuracy: 0.8922\n",
            "Epoch 43/100\n",
            "400/400 [==============================] - 2s 4ms/step - loss: 0.2945 - sparse_categorical_accuracy: 0.8882\n",
            "Epoch 44/100\n",
            "400/400 [==============================] - 2s 4ms/step - loss: 0.2854 - sparse_categorical_accuracy: 0.8930\n",
            "Epoch 45/100\n",
            "400/400 [==============================] - 2s 4ms/step - loss: 0.2946 - sparse_categorical_accuracy: 0.8889\n",
            "Epoch 46/100\n",
            "400/400 [==============================] - 1s 4ms/step - loss: 0.2832 - sparse_categorical_accuracy: 0.8922\n",
            "Epoch 47/100\n",
            "400/400 [==============================] - 1s 4ms/step - loss: 0.2851 - sparse_categorical_accuracy: 0.8923\n",
            "Epoch 48/100\n",
            "400/400 [==============================] - 1s 4ms/step - loss: 0.2843 - sparse_categorical_accuracy: 0.8926\n",
            "Epoch 49/100\n",
            "400/400 [==============================] - 1s 4ms/step - loss: 0.2846 - sparse_categorical_accuracy: 0.8917\n",
            "Epoch 50/100\n",
            "400/400 [==============================] - 1s 4ms/step - loss: 0.2805 - sparse_categorical_accuracy: 0.8933\n",
            "Epoch 51/100\n",
            "400/400 [==============================] - 1s 4ms/step - loss: 0.2767 - sparse_categorical_accuracy: 0.8961\n",
            "Epoch 52/100\n",
            "400/400 [==============================] - 1s 4ms/step - loss: 0.2834 - sparse_categorical_accuracy: 0.8931\n",
            "Epoch 53/100\n",
            "400/400 [==============================] - 1s 4ms/step - loss: 0.2795 - sparse_categorical_accuracy: 0.8956\n",
            "Epoch 54/100\n",
            "400/400 [==============================] - 1s 4ms/step - loss: 0.2828 - sparse_categorical_accuracy: 0.8920\n",
            "Epoch 55/100\n",
            "400/400 [==============================] - 1s 4ms/step - loss: 0.2739 - sparse_categorical_accuracy: 0.8971\n",
            "Epoch 56/100\n",
            "400/400 [==============================] - 2s 4ms/step - loss: 0.2759 - sparse_categorical_accuracy: 0.8975\n",
            "Epoch 57/100\n",
            "400/400 [==============================] - 1s 4ms/step - loss: 0.2730 - sparse_categorical_accuracy: 0.8967\n",
            "Epoch 58/100\n",
            "400/400 [==============================] - 1s 4ms/step - loss: 0.2780 - sparse_categorical_accuracy: 0.8958\n",
            "Epoch 59/100\n",
            "400/400 [==============================] - 1s 4ms/step - loss: 0.2700 - sparse_categorical_accuracy: 0.8989\n",
            "Epoch 60/100\n",
            "400/400 [==============================] - 1s 4ms/step - loss: 0.2760 - sparse_categorical_accuracy: 0.8956\n",
            "Epoch 61/100\n",
            "400/400 [==============================] - 1s 4ms/step - loss: 0.2725 - sparse_categorical_accuracy: 0.8981\n",
            "Epoch 62/100\n",
            "400/400 [==============================] - 1s 4ms/step - loss: 0.2776 - sparse_categorical_accuracy: 0.8947\n",
            "Epoch 63/100\n",
            "400/400 [==============================] - 2s 4ms/step - loss: 0.2728 - sparse_categorical_accuracy: 0.8974\n",
            "Epoch 64/100\n",
            "400/400 [==============================] - 1s 4ms/step - loss: 0.2709 - sparse_categorical_accuracy: 0.8975\n",
            "Epoch 65/100\n",
            "400/400 [==============================] - 1s 4ms/step - loss: 0.2798 - sparse_categorical_accuracy: 0.8933\n",
            "Epoch 66/100\n",
            "400/400 [==============================] - 1s 4ms/step - loss: 0.2748 - sparse_categorical_accuracy: 0.8978\n",
            "Epoch 67/100\n",
            "400/400 [==============================] - 1s 4ms/step - loss: 0.2734 - sparse_categorical_accuracy: 0.8972\n",
            "Epoch 68/100\n",
            "400/400 [==============================] - 2s 4ms/step - loss: 0.2758 - sparse_categorical_accuracy: 0.8953\n",
            "Epoch 69/100\n",
            "400/400 [==============================] - 1s 4ms/step - loss: 0.2724 - sparse_categorical_accuracy: 0.8985\n",
            "Epoch 70/100\n",
            "400/400 [==============================] - 1s 4ms/step - loss: 0.2795 - sparse_categorical_accuracy: 0.8955\n",
            "Epoch 71/100\n",
            "400/400 [==============================] - 2s 4ms/step - loss: 0.2723 - sparse_categorical_accuracy: 0.8968\n",
            "Epoch 72/100\n",
            "400/400 [==============================] - 1s 4ms/step - loss: 0.2755 - sparse_categorical_accuracy: 0.8951\n",
            "Epoch 73/100\n",
            "400/400 [==============================] - 1s 4ms/step - loss: 0.2718 - sparse_categorical_accuracy: 0.8979\n",
            "Epoch 74/100\n",
            "400/400 [==============================] - 1s 4ms/step - loss: 0.2709 - sparse_categorical_accuracy: 0.8975\n",
            "Epoch 75/100\n",
            "400/400 [==============================] - 1s 4ms/step - loss: 0.2677 - sparse_categorical_accuracy: 0.8986\n",
            "Epoch 76/100\n",
            "400/400 [==============================] - 1s 4ms/step - loss: 0.2707 - sparse_categorical_accuracy: 0.8988\n",
            "Epoch 77/100\n",
            "400/400 [==============================] - 1s 4ms/step - loss: 0.2712 - sparse_categorical_accuracy: 0.8980\n",
            "Epoch 78/100\n",
            "400/400 [==============================] - 1s 4ms/step - loss: 0.2711 - sparse_categorical_accuracy: 0.8992\n",
            "Epoch 79/100\n",
            "400/400 [==============================] - 1s 4ms/step - loss: 0.2664 - sparse_categorical_accuracy: 0.8991\n",
            "Epoch 80/100\n",
            "400/400 [==============================] - 1s 4ms/step - loss: 0.2666 - sparse_categorical_accuracy: 0.8992\n",
            "Epoch 81/100\n",
            "400/400 [==============================] - 1s 4ms/step - loss: 0.2673 - sparse_categorical_accuracy: 0.8989\n",
            "Epoch 82/100\n",
            "400/400 [==============================] - 1s 4ms/step - loss: 0.2665 - sparse_categorical_accuracy: 0.8994\n",
            "Epoch 83/100\n",
            "400/400 [==============================] - 1s 4ms/step - loss: 0.2679 - sparse_categorical_accuracy: 0.8975\n",
            "Epoch 84/100\n",
            "400/400 [==============================] - 1s 4ms/step - loss: 0.2665 - sparse_categorical_accuracy: 0.9001\n",
            "Epoch 85/100\n",
            "400/400 [==============================] - 1s 4ms/step - loss: 0.2669 - sparse_categorical_accuracy: 0.8981\n",
            "Epoch 86/100\n",
            "400/400 [==============================] - 1s 4ms/step - loss: 0.2680 - sparse_categorical_accuracy: 0.8989\n",
            "Epoch 87/100\n",
            "400/400 [==============================] - 1s 4ms/step - loss: 0.2654 - sparse_categorical_accuracy: 0.9000\n",
            "Epoch 88/100\n",
            "400/400 [==============================] - 2s 4ms/step - loss: 0.2642 - sparse_categorical_accuracy: 0.8996\n",
            "Epoch 89/100\n",
            "400/400 [==============================] - 2s 4ms/step - loss: 0.2645 - sparse_categorical_accuracy: 0.9000\n",
            "Epoch 90/100\n",
            "400/400 [==============================] - 1s 4ms/step - loss: 0.2591 - sparse_categorical_accuracy: 0.9016\n",
            "Epoch 91/100\n",
            "400/400 [==============================] - 2s 4ms/step - loss: 0.2671 - sparse_categorical_accuracy: 0.8991\n",
            "Epoch 92/100\n",
            "400/400 [==============================] - 2s 4ms/step - loss: 0.2625 - sparse_categorical_accuracy: 0.8996\n",
            "Epoch 93/100\n",
            "400/400 [==============================] - 2s 4ms/step - loss: 0.2624 - sparse_categorical_accuracy: 0.9015\n",
            "Epoch 94/100\n",
            "400/400 [==============================] - 2s 4ms/step - loss: 0.2586 - sparse_categorical_accuracy: 0.9018\n",
            "Epoch 95/100\n",
            "400/400 [==============================] - 1s 4ms/step - loss: 0.2632 - sparse_categorical_accuracy: 0.9005\n",
            "Epoch 96/100\n",
            "400/400 [==============================] - 1s 4ms/step - loss: 0.2674 - sparse_categorical_accuracy: 0.8981\n",
            "Epoch 97/100\n",
            "400/400 [==============================] - 1s 4ms/step - loss: 0.2609 - sparse_categorical_accuracy: 0.9011\n",
            "Epoch 98/100\n",
            "400/400 [==============================] - 2s 4ms/step - loss: 0.2635 - sparse_categorical_accuracy: 0.9013\n",
            "Epoch 99/100\n",
            "400/400 [==============================] - 1s 4ms/step - loss: 0.2576 - sparse_categorical_accuracy: 0.9029\n",
            "Epoch 100/100\n",
            "400/400 [==============================] - 1s 4ms/step - loss: 0.2607 - sparse_categorical_accuracy: 0.9003\n"
          ],
          "name": "stdout"
        },
        {
          "output_type": "execute_result",
          "data": {
            "text/plain": [
              "<tensorflow.python.keras.callbacks.History at 0x7efbba00a198>"
            ]
          },
          "metadata": {
            "tags": []
          },
          "execution_count": 29
        }
      ]
    },
    {
      "cell_type": "code",
      "metadata": {
        "colab": {
          "base_uri": "https://localhost:8080/"
        },
        "id": "Lybxwc1_9_r3",
        "outputId": "e241b473-61fa-4b74-b4b8-8d7d7352d18d"
      },
      "source": [
        "model.summary()"
      ],
      "execution_count": 31,
      "outputs": [
        {
          "output_type": "stream",
          "text": [
            "Model: \"sequential_6\"\n",
            "_________________________________________________________________\n",
            "Layer (type)                 Output Shape              Param #   \n",
            "=================================================================\n",
            "flatten_3 (Flatten)          (150, 784)                0         \n",
            "_________________________________________________________________\n",
            "dropout_3 (Dropout)          (150, 784)                0         \n",
            "_________________________________________________________________\n",
            "dense_7 (Dense)              (150, 64)                 50240     \n",
            "_________________________________________________________________\n",
            "dense_8 (Dense)              (150, 10)                 650       \n",
            "=================================================================\n",
            "Total params: 50,890\n",
            "Trainable params: 50,890\n",
            "Non-trainable params: 0\n",
            "_________________________________________________________________\n"
          ],
          "name": "stdout"
        }
      ]
    },
    {
      "cell_type": "code",
      "metadata": {
        "colab": {
          "base_uri": "https://localhost:8080/",
          "height": 533
        },
        "id": "oOLXv2r1_dv6",
        "outputId": "dd6d670a-5120-4b46-8443-1a345a3a3227"
      },
      "source": [
        "from keras.utils.vis_utils import plot_model\r\n",
        "plot_model(model,show_shapes=True, show_layer_names=True)"
      ],
      "execution_count": 32,
      "outputs": [
        {
          "output_type": "execute_result",
          "data": {
            "image/png": "[encoded data removed]",
            "text/plain": [
              "<IPython.core.display.Image object>"
            ]
          },
          "metadata": {
            "tags": []
          },
          "execution_count": 32
        }
      ]
    },
    {
      "cell_type": "code",
      "metadata": {
        "id": "q_LoZBPf__pC"
      },
      "source": [
        ""
      ],
      "execution_count": null,
      "outputs": []
    },
    {
      "cell_type": "markdown",
      "metadata": {
        "id": "RpVRby1qAA3G"
      },
      "source": [
        "## TESTING"
      ]
    },
    {
      "cell_type": "code",
      "metadata": {
        "colab": {
          "base_uri": "https://localhost:8080/"
        },
        "id": "vhz0QLhZ_j4X",
        "outputId": "39ce27a2-00cb-4501-de07-3d0d2b35ec3c"
      },
      "source": [
        "\r\n",
        "test_loss,test_accuracy = model.evaluate(X_test,y_test)"
      ],
      "execution_count": 33,
      "outputs": [
        {
          "output_type": "stream",
          "text": [
            "313/313 [==============================] - 0s 1ms/step - loss: 0.3248 - sparse_categorical_accuracy: 0.8826\n"
          ],
          "name": "stdout"
        }
      ]
    },
    {
      "cell_type": "code",
      "metadata": {
        "id": "N8PG9fzV_pbu"
      },
      "source": [
        ""
      ],
      "execution_count": null,
      "outputs": []
    }
  ]
}