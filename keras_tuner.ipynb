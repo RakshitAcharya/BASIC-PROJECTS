{
  "nbformat": 4,
  "nbformat_minor": 0,
  "metadata": {
    "colab": {
      "name": "keras_tuner.ipynb",
      "provenance": [],
      "collapsed_sections": [
        "Tce3stUlHN0L"
      ],
      "toc_visible": true
    },
    "kernelspec": {
      "display_name": "Python 3",
      "name": "python3"
    },
    "accelerator": "GPU"
  },
  "cells": [
    {
      "cell_type": "code",
      "metadata": {
        "id": "IqR2PQG4ZaZ0"
      },
      "source": [
        "import tensorflow as tf\n",
        "from tensorflow import keras"
      ],
      "execution_count": 1,
      "outputs": []
    },
    {
      "cell_type": "markdown",
      "metadata": {
        "id": "g83Lwsy-Aq2_"
      },
      "source": [
        "Install and import the Keras Tuner."
      ]
    },
    {
      "cell_type": "code",
      "metadata": {
        "id": "hpMLpbt9jcO6",
        "outputId": "9a16322b-47ee-4f9c-bbda-e32d00513863",
        "colab": {
          "base_uri": "https://localhost:8080/"
        }
      },
      "source": [
        "!pip install -q -U keras-tuner"
      ],
      "execution_count": 2,
      "outputs": [
        {
          "output_type": "stream",
          "text": [
            "\u001b[?25l\r\u001b[K     |█████▏                          | 10kB 24.0MB/s eta 0:00:01\r\u001b[K     |██████████▍                     | 20kB 18.3MB/s eta 0:00:01\r\u001b[K     |███████████████▋                | 30kB 14.9MB/s eta 0:00:01\r\u001b[K     |████████████████████▉           | 40kB 13.4MB/s eta 0:00:01\r\u001b[K     |██████████████████████████      | 51kB 8.6MB/s eta 0:00:01\r\u001b[K     |███████████████████████████████▎| 61kB 9.4MB/s eta 0:00:01\r\u001b[K     |████████████████████████████████| 71kB 6.1MB/s \n",
            "\u001b[?25h  Building wheel for keras-tuner (setup.py) ... \u001b[?25l\u001b[?25hdone\n",
            "  Building wheel for terminaltables (setup.py) ... \u001b[?25l\u001b[?25hdone\n"
          ],
          "name": "stdout"
        }
      ]
    },
    {
      "cell_type": "code",
      "metadata": {
        "id": "_leAIdFKAxAD"
      },
      "source": [
        "import kerastuner as kt"
      ],
      "execution_count": 3,
      "outputs": []
    },
    {
      "cell_type": "markdown",
      "metadata": {
        "id": "ReV_UXOgCZvx"
      },
      "source": [
        "## Download and prepare the dataset\n"
      ]
    },
    {
      "cell_type": "code",
      "metadata": {
        "id": "OHlHs9Wj_PUM",
        "outputId": "e0e47f8e-acd8-475f-ac76-e2ec74701461",
        "colab": {
          "base_uri": "https://localhost:8080/"
        }
      },
      "source": [
        "(img_train, label_train), (img_test, label_test) = keras.datasets.fashion_mnist.load_data()"
      ],
      "execution_count": 4,
      "outputs": [
        {
          "output_type": "stream",
          "text": [
            "Downloading data from https://storage.googleapis.com/tensorflow/tf-keras-datasets/train-labels-idx1-ubyte.gz\n",
            "32768/29515 [=================================] - 0s 0us/step\n",
            "Downloading data from https://storage.googleapis.com/tensorflow/tf-keras-datasets/train-images-idx3-ubyte.gz\n",
            "26427392/26421880 [==============================] - 0s 0us/step\n",
            "Downloading data from https://storage.googleapis.com/tensorflow/tf-keras-datasets/t10k-labels-idx1-ubyte.gz\n",
            "8192/5148 [===============================================] - 0s 0us/step\n",
            "Downloading data from https://storage.googleapis.com/tensorflow/tf-keras-datasets/t10k-images-idx3-ubyte.gz\n",
            "4423680/4422102 [==============================] - 0s 0us/step\n"
          ],
          "name": "stdout"
        }
      ]
    },
    {
      "cell_type": "code",
      "metadata": {
        "id": "bLVhXs3xrUD0"
      },
      "source": [
        "# Normalize pixel values between 0 and 1\n",
        "img_train = img_train.astype('float32') / 255.0\n",
        "img_test = img_test.astype('float32') / 255.0"
      ],
      "execution_count": 5,
      "outputs": []
    },
    {
      "cell_type": "markdown",
      "metadata": {
        "id": "K5YEL2H2Ax3e"
      },
      "source": [
        "## Define the model\n"
      ]
    },
    {
      "cell_type": "code",
      "metadata": {
        "id": "ZQKodC-jtsva"
      },
      "source": [
        "def model_builder(hp):\n",
        "  model = keras.Sequential()\n",
        "  model.add(keras.layers.Flatten(input_shape=(28, 28)))\n",
        "\n",
        "  # Tune the number of units in the first Dense layer\n",
        "  # Choose an optimal value between 32-512\n",
        "  hp_units = hp.Int('units', min_value=32, max_value=512, step=32)\n",
        "  model.add(keras.layers.Dense(units=hp_units, activation='relu'))\n",
        "  model.add(keras.layers.Dense(10))\n",
        "\n",
        "  # Tune the learning rate for the optimizer\n",
        "  # Choose an optimal value from 0.01, 0.001, or 0.0001\n",
        "  hp_learning_rate = hp.Choice('learning_rate', values=[1e-2, 1e-3, 1e-4])\n",
        "\n",
        "  model.compile(optimizer=keras.optimizers.Adam(learning_rate=hp_learning_rate),\n",
        "                loss=keras.losses.SparseCategoricalCrossentropy(from_logits=True),\n",
        "                metrics=['accuracy'])\n",
        "\n",
        "  return model"
      ],
      "execution_count": 6,
      "outputs": []
    },
    {
      "cell_type": "markdown",
      "metadata": {
        "id": "0J1VYw4q3x0b"
      },
      "source": [
        "## Instantiate the tuner and perform hypertuning\n",
        "\n"
      ]
    },
    {
      "cell_type": "code",
      "metadata": {
        "id": "oichQFly6Y46"
      },
      "source": [
        "tuner = kt.Hyperband(model_builder,\n",
        "                     objective='val_accuracy',\n",
        "                     max_epochs=10,\n",
        "                     factor=3,\n",
        "                     directory='my_dir',\n",
        "                     project_name='intro_to_kt')"
      ],
      "execution_count": 7,
      "outputs": []
    },
    {
      "cell_type": "code",
      "metadata": {
        "id": "WT9IkS9NEjLc"
      },
      "source": [
        "stop_early = tf.keras.callbacks.EarlyStopping(monitor='val_loss', patience=5)"
      ],
      "execution_count": 8,
      "outputs": []
    },
    {
      "cell_type": "code",
      "metadata": {
        "id": "dSBQcTHF9cKt",
        "outputId": "c837a754-334b-47b5-dbc7-1a2d0069cccb",
        "colab": {
          "base_uri": "https://localhost:8080/"
        }
      },
      "source": [
        "tuner.search(img_train, label_train, epochs=50, validation_split=0.2, callbacks=[stop_early])\n",
        "\n",
        "# Get the optimal hyperparameters\n",
        "best_hps=tuner.get_best_hyperparameters(num_trials=1)[0]\n",
        "\n",
        "print(f\"\"\"\n",
        "The hyperparameter search is complete. The optimal number of units in the first densely-connected\n",
        "layer is {best_hps.get('units')} and the optimal learning rate for the optimizer\n",
        "is {best_hps.get('learning_rate')}.\n",
        "\"\"\")"
      ],
      "execution_count": 9,
      "outputs": [
        {
          "output_type": "stream",
          "text": [
            "Trial 30 Complete [00h 00m 19s]\n",
            "val_accuracy: 0.8575833439826965\n",
            "\n",
            "Best val_accuracy So Far: 0.8866666555404663\n",
            "Total elapsed time: 00h 05m 35s\n",
            "INFO:tensorflow:Oracle triggered exit\n",
            "\n",
            "The hyperparameter search is complete. The optimal number of units in the first densely-connected\n",
            "layer is 160 and the optimal learning rate for the optimizer\n",
            "is 0.001.\n",
            "\n"
          ],
          "name": "stdout"
        }
      ]
    },
    {
      "cell_type": "markdown",
      "metadata": {
        "id": "Lak_ylf88xBv"
      },
      "source": [
        "## Train the model\n"
      ]
    },
    {
      "cell_type": "code",
      "metadata": {
        "id": "McO82AXOuxXh",
        "outputId": "339a28db-4261-4b38-be3d-7458bc2171ce",
        "colab": {
          "base_uri": "https://localhost:8080/"
        }
      },
      "source": [
        "# Build the model with the optimal hyperparameters and train it on the data for 50 epochs\n",
        "model = tuner.hypermodel.build(best_hps)\n",
        "history = model.fit(img_train, label_train, epochs=50, validation_split=0.2)\n",
        "\n",
        "val_acc_per_epoch = history.history['val_accuracy']\n",
        "best_epoch = val_acc_per_epoch.index(max(val_acc_per_epoch)) + 1\n",
        "print('Best epoch: %d' % (best_epoch,))"
      ],
      "execution_count": 10,
      "outputs": [
        {
          "output_type": "stream",
          "text": [
            "Epoch 1/50\n",
            "1500/1500 [==============================] - 3s 2ms/step - loss: 0.6408 - accuracy: 0.7740 - val_loss: 0.4124 - val_accuracy: 0.8525\n",
            "Epoch 2/50\n",
            "1500/1500 [==============================] - 3s 2ms/step - loss: 0.3942 - accuracy: 0.8590 - val_loss: 0.3860 - val_accuracy: 0.8582\n",
            "Epoch 3/50\n",
            "1500/1500 [==============================] - 3s 2ms/step - loss: 0.3461 - accuracy: 0.8736 - val_loss: 0.3552 - val_accuracy: 0.8708\n",
            "Epoch 4/50\n",
            "1500/1500 [==============================] - 3s 2ms/step - loss: 0.3163 - accuracy: 0.8851 - val_loss: 0.3847 - val_accuracy: 0.8552\n",
            "Epoch 5/50\n",
            "1500/1500 [==============================] - 3s 2ms/step - loss: 0.2987 - accuracy: 0.8908 - val_loss: 0.3295 - val_accuracy: 0.8794\n",
            "Epoch 6/50\n",
            "1500/1500 [==============================] - 3s 2ms/step - loss: 0.2816 - accuracy: 0.8956 - val_loss: 0.3299 - val_accuracy: 0.8833\n",
            "Epoch 7/50\n",
            "1500/1500 [==============================] - 3s 2ms/step - loss: 0.2678 - accuracy: 0.8987 - val_loss: 0.3068 - val_accuracy: 0.8878\n",
            "Epoch 8/50\n",
            "1500/1500 [==============================] - 3s 2ms/step - loss: 0.2542 - accuracy: 0.9048 - val_loss: 0.3306 - val_accuracy: 0.8836\n",
            "Epoch 9/50\n",
            "1500/1500 [==============================] - 3s 2ms/step - loss: 0.2434 - accuracy: 0.9085 - val_loss: 0.3294 - val_accuracy: 0.8892\n",
            "Epoch 10/50\n",
            "1500/1500 [==============================] - 3s 2ms/step - loss: 0.2382 - accuracy: 0.9110 - val_loss: 0.3149 - val_accuracy: 0.8888\n",
            "Epoch 11/50\n",
            "1500/1500 [==============================] - 3s 2ms/step - loss: 0.2230 - accuracy: 0.9163 - val_loss: 0.3221 - val_accuracy: 0.8867\n",
            "Epoch 12/50\n",
            "1500/1500 [==============================] - 3s 2ms/step - loss: 0.2204 - accuracy: 0.9170 - val_loss: 0.3154 - val_accuracy: 0.8905\n",
            "Epoch 13/50\n",
            "1500/1500 [==============================] - 3s 2ms/step - loss: 0.2047 - accuracy: 0.9246 - val_loss: 0.3343 - val_accuracy: 0.8888\n",
            "Epoch 14/50\n",
            "1500/1500 [==============================] - 3s 2ms/step - loss: 0.2069 - accuracy: 0.9223 - val_loss: 0.3354 - val_accuracy: 0.8868\n",
            "Epoch 15/50\n",
            "1500/1500 [==============================] - 3s 2ms/step - loss: 0.1926 - accuracy: 0.9294 - val_loss: 0.3438 - val_accuracy: 0.8862\n",
            "Epoch 16/50\n",
            "1500/1500 [==============================] - 3s 2ms/step - loss: 0.1882 - accuracy: 0.9301 - val_loss: 0.3292 - val_accuracy: 0.8905\n",
            "Epoch 17/50\n",
            "1500/1500 [==============================] - 3s 2ms/step - loss: 0.1863 - accuracy: 0.9294 - val_loss: 0.3355 - val_accuracy: 0.8889\n",
            "Epoch 18/50\n",
            "1500/1500 [==============================] - 3s 2ms/step - loss: 0.1813 - accuracy: 0.9317 - val_loss: 0.3417 - val_accuracy: 0.8882\n",
            "Epoch 19/50\n",
            "1500/1500 [==============================] - 3s 2ms/step - loss: 0.1701 - accuracy: 0.9349 - val_loss: 0.3458 - val_accuracy: 0.8936\n",
            "Epoch 20/50\n",
            "1500/1500 [==============================] - 3s 2ms/step - loss: 0.1699 - accuracy: 0.9341 - val_loss: 0.3387 - val_accuracy: 0.8928\n",
            "Epoch 21/50\n",
            "1500/1500 [==============================] - 3s 2ms/step - loss: 0.1648 - accuracy: 0.9392 - val_loss: 0.3515 - val_accuracy: 0.8919\n",
            "Epoch 22/50\n",
            "1500/1500 [==============================] - 3s 2ms/step - loss: 0.1603 - accuracy: 0.9393 - val_loss: 0.3401 - val_accuracy: 0.8943\n",
            "Epoch 23/50\n",
            "1500/1500 [==============================] - 3s 2ms/step - loss: 0.1522 - accuracy: 0.9422 - val_loss: 0.3467 - val_accuracy: 0.8891\n",
            "Epoch 24/50\n",
            "1500/1500 [==============================] - 3s 2ms/step - loss: 0.1499 - accuracy: 0.9443 - val_loss: 0.3504 - val_accuracy: 0.8924\n",
            "Epoch 25/50\n",
            "1500/1500 [==============================] - 3s 2ms/step - loss: 0.1463 - accuracy: 0.9447 - val_loss: 0.3661 - val_accuracy: 0.8898\n",
            "Epoch 26/50\n",
            "1500/1500 [==============================] - 3s 2ms/step - loss: 0.1432 - accuracy: 0.9463 - val_loss: 0.3913 - val_accuracy: 0.8896\n",
            "Epoch 27/50\n",
            "1500/1500 [==============================] - 3s 2ms/step - loss: 0.1398 - accuracy: 0.9471 - val_loss: 0.3630 - val_accuracy: 0.8922\n",
            "Epoch 28/50\n",
            "1500/1500 [==============================] - 3s 2ms/step - loss: 0.1369 - accuracy: 0.9491 - val_loss: 0.3784 - val_accuracy: 0.8912\n",
            "Epoch 29/50\n",
            "1500/1500 [==============================] - 3s 2ms/step - loss: 0.1292 - accuracy: 0.9512 - val_loss: 0.3944 - val_accuracy: 0.8843\n",
            "Epoch 30/50\n",
            "1500/1500 [==============================] - 3s 2ms/step - loss: 0.1296 - accuracy: 0.9512 - val_loss: 0.3808 - val_accuracy: 0.8934\n",
            "Epoch 31/50\n",
            "1500/1500 [==============================] - 3s 2ms/step - loss: 0.1234 - accuracy: 0.9545 - val_loss: 0.4085 - val_accuracy: 0.8885\n",
            "Epoch 32/50\n",
            "1500/1500 [==============================] - 3s 2ms/step - loss: 0.1216 - accuracy: 0.9533 - val_loss: 0.4007 - val_accuracy: 0.8907\n",
            "Epoch 33/50\n",
            "1500/1500 [==============================] - 3s 2ms/step - loss: 0.1200 - accuracy: 0.9570 - val_loss: 0.4125 - val_accuracy: 0.8897\n",
            "Epoch 34/50\n",
            "1500/1500 [==============================] - 3s 2ms/step - loss: 0.1161 - accuracy: 0.9570 - val_loss: 0.4229 - val_accuracy: 0.8882\n",
            "Epoch 35/50\n",
            "1500/1500 [==============================] - 3s 2ms/step - loss: 0.1123 - accuracy: 0.9566 - val_loss: 0.4186 - val_accuracy: 0.8929\n",
            "Epoch 36/50\n",
            "1500/1500 [==============================] - 3s 2ms/step - loss: 0.1124 - accuracy: 0.9585 - val_loss: 0.4103 - val_accuracy: 0.8951\n",
            "Epoch 37/50\n",
            "1500/1500 [==============================] - 3s 2ms/step - loss: 0.1051 - accuracy: 0.9610 - val_loss: 0.4805 - val_accuracy: 0.8848\n",
            "Epoch 38/50\n",
            "1500/1500 [==============================] - 3s 2ms/step - loss: 0.1025 - accuracy: 0.9623 - val_loss: 0.4483 - val_accuracy: 0.8882\n",
            "Epoch 39/50\n",
            "1500/1500 [==============================] - 3s 2ms/step - loss: 0.1033 - accuracy: 0.9616 - val_loss: 0.4227 - val_accuracy: 0.8916\n",
            "Epoch 40/50\n",
            "1500/1500 [==============================] - 3s 2ms/step - loss: 0.1051 - accuracy: 0.9618 - val_loss: 0.4500 - val_accuracy: 0.8906\n",
            "Epoch 41/50\n",
            "1500/1500 [==============================] - 3s 2ms/step - loss: 0.1000 - accuracy: 0.9627 - val_loss: 0.4724 - val_accuracy: 0.8882\n",
            "Epoch 42/50\n",
            "1500/1500 [==============================] - 3s 2ms/step - loss: 0.0999 - accuracy: 0.9626 - val_loss: 0.5018 - val_accuracy: 0.8876\n",
            "Epoch 43/50\n",
            "1500/1500 [==============================] - 3s 2ms/step - loss: 0.0964 - accuracy: 0.9644 - val_loss: 0.4986 - val_accuracy: 0.8801\n",
            "Epoch 44/50\n",
            "1500/1500 [==============================] - 3s 2ms/step - loss: 0.0938 - accuracy: 0.9653 - val_loss: 0.4876 - val_accuracy: 0.8843\n",
            "Epoch 45/50\n",
            "1500/1500 [==============================] - 3s 2ms/step - loss: 0.0935 - accuracy: 0.9654 - val_loss: 0.4660 - val_accuracy: 0.8938\n",
            "Epoch 46/50\n",
            "1500/1500 [==============================] - 3s 2ms/step - loss: 0.0945 - accuracy: 0.9635 - val_loss: 0.4915 - val_accuracy: 0.8871\n",
            "Epoch 47/50\n",
            "1500/1500 [==============================] - 3s 2ms/step - loss: 0.0860 - accuracy: 0.9680 - val_loss: 0.4952 - val_accuracy: 0.8898\n",
            "Epoch 48/50\n",
            "1500/1500 [==============================] - 3s 2ms/step - loss: 0.0892 - accuracy: 0.9676 - val_loss: 0.5067 - val_accuracy: 0.8846\n",
            "Epoch 49/50\n",
            "1500/1500 [==============================] - 3s 2ms/step - loss: 0.0899 - accuracy: 0.9658 - val_loss: 0.4974 - val_accuracy: 0.8885\n",
            "Epoch 50/50\n",
            "1500/1500 [==============================] - 3s 2ms/step - loss: 0.0792 - accuracy: 0.9709 - val_loss: 0.4992 - val_accuracy: 0.8910\n",
            "Best epoch: 36\n"
          ],
          "name": "stdout"
        }
      ]
    },
    {
      "cell_type": "code",
      "metadata": {
        "id": "NoiPUEHmMhCe",
        "outputId": "ecc98628-3725-4b28-dd74-a47fe798f4f8",
        "colab": {
          "base_uri": "https://localhost:8080/"
        }
      },
      "source": [
        "hypermodel = tuner.hypermodel.build(best_hps)\n",
        "\n",
        "# Retrain the model\n",
        "hypermodel.fit(img_test, label_test, epochs=best_epoch)"
      ],
      "execution_count": 11,
      "outputs": [
        {
          "output_type": "stream",
          "text": [
            "Epoch 1/36\n",
            "313/313 [==============================] - 1s 2ms/step - loss: 0.9338 - accuracy: 0.6670\n",
            "Epoch 2/36\n",
            "313/313 [==============================] - 1s 2ms/step - loss: 0.5275 - accuracy: 0.8131\n",
            "Epoch 3/36\n",
            "313/313 [==============================] - 1s 2ms/step - loss: 0.4669 - accuracy: 0.8357\n",
            "Epoch 4/36\n",
            "313/313 [==============================] - 1s 2ms/step - loss: 0.4266 - accuracy: 0.8442\n",
            "Epoch 5/36\n",
            "313/313 [==============================] - 1s 2ms/step - loss: 0.3907 - accuracy: 0.8586\n",
            "Epoch 6/36\n",
            "313/313 [==============================] - 1s 2ms/step - loss: 0.3768 - accuracy: 0.8605\n",
            "Epoch 7/36\n",
            "313/313 [==============================] - 1s 2ms/step - loss: 0.3428 - accuracy: 0.8773\n",
            "Epoch 8/36\n",
            "313/313 [==============================] - 1s 2ms/step - loss: 0.3511 - accuracy: 0.8729\n",
            "Epoch 9/36\n",
            "313/313 [==============================] - 1s 2ms/step - loss: 0.3163 - accuracy: 0.8874\n",
            "Epoch 10/36\n",
            "313/313 [==============================] - 1s 2ms/step - loss: 0.3170 - accuracy: 0.8835\n",
            "Epoch 11/36\n",
            "313/313 [==============================] - 1s 2ms/step - loss: 0.2872 - accuracy: 0.8973\n",
            "Epoch 12/36\n",
            "313/313 [==============================] - 1s 2ms/step - loss: 0.2812 - accuracy: 0.8944\n",
            "Epoch 13/36\n",
            "313/313 [==============================] - 1s 2ms/step - loss: 0.2613 - accuracy: 0.9047\n",
            "Epoch 14/36\n",
            "313/313 [==============================] - 1s 2ms/step - loss: 0.2631 - accuracy: 0.9035\n",
            "Epoch 15/36\n",
            "313/313 [==============================] - 1s 2ms/step - loss: 0.2612 - accuracy: 0.9048\n",
            "Epoch 16/36\n",
            "313/313 [==============================] - 1s 2ms/step - loss: 0.2391 - accuracy: 0.9152\n",
            "Epoch 17/36\n",
            "313/313 [==============================] - 1s 2ms/step - loss: 0.2072 - accuracy: 0.9276\n",
            "Epoch 18/36\n",
            "313/313 [==============================] - 1s 2ms/step - loss: 0.2109 - accuracy: 0.9235\n",
            "Epoch 19/36\n",
            "313/313 [==============================] - 1s 2ms/step - loss: 0.2003 - accuracy: 0.9296\n",
            "Epoch 20/36\n",
            "313/313 [==============================] - 1s 2ms/step - loss: 0.1935 - accuracy: 0.9331\n",
            "Epoch 21/36\n",
            "313/313 [==============================] - 1s 2ms/step - loss: 0.1823 - accuracy: 0.9345\n",
            "Epoch 22/36\n",
            "313/313 [==============================] - 1s 2ms/step - loss: 0.1690 - accuracy: 0.9376\n",
            "Epoch 23/36\n",
            "313/313 [==============================] - 1s 2ms/step - loss: 0.1769 - accuracy: 0.9340\n",
            "Epoch 24/36\n",
            "313/313 [==============================] - 1s 2ms/step - loss: 0.1685 - accuracy: 0.9371\n",
            "Epoch 25/36\n",
            "313/313 [==============================] - 1s 2ms/step - loss: 0.1536 - accuracy: 0.9467\n",
            "Epoch 26/36\n",
            "313/313 [==============================] - 1s 2ms/step - loss: 0.1683 - accuracy: 0.9378\n",
            "Epoch 27/36\n",
            "313/313 [==============================] - 1s 2ms/step - loss: 0.1418 - accuracy: 0.9501\n",
            "Epoch 28/36\n",
            "313/313 [==============================] - 1s 2ms/step - loss: 0.1389 - accuracy: 0.9502\n",
            "Epoch 29/36\n",
            "313/313 [==============================] - 1s 2ms/step - loss: 0.1296 - accuracy: 0.9518\n",
            "Epoch 30/36\n",
            "313/313 [==============================] - 1s 2ms/step - loss: 0.1344 - accuracy: 0.9517\n",
            "Epoch 31/36\n",
            "313/313 [==============================] - 1s 2ms/step - loss: 0.1142 - accuracy: 0.9614\n",
            "Epoch 32/36\n",
            "313/313 [==============================] - 1s 2ms/step - loss: 0.1276 - accuracy: 0.9521\n",
            "Epoch 33/36\n",
            "313/313 [==============================] - 1s 2ms/step - loss: 0.1341 - accuracy: 0.9502\n",
            "Epoch 34/36\n",
            "313/313 [==============================] - 1s 2ms/step - loss: 0.1245 - accuracy: 0.9551\n",
            "Epoch 35/36\n",
            "313/313 [==============================] - 1s 2ms/step - loss: 0.0989 - accuracy: 0.9660\n",
            "Epoch 36/36\n",
            "313/313 [==============================] - 1s 2ms/step - loss: 0.1043 - accuracy: 0.9623\n"
          ],
          "name": "stdout"
        },
        {
          "output_type": "execute_result",
          "data": {
            "text/plain": [
              "<tensorflow.python.keras.callbacks.History at 0x7f94e03e9890>"
            ]
          },
          "metadata": {
            "tags": []
          },
          "execution_count": 11
        }
      ]
    },
    {
      "cell_type": "code",
      "metadata": {
        "id": "9E0BTp9Ealjb",
        "outputId": "f6b5d1ac-e672-4a72-d558-e94719521482",
        "colab": {
          "base_uri": "https://localhost:8080/"
        }
      },
      "source": [
        "eval_result = hypermodel.evaluate(img_test, label_test)\n",
        "print(\"[test loss, test accuracy]:\", eval_result)"
      ],
      "execution_count": 12,
      "outputs": [
        {
          "output_type": "stream",
          "text": [
            "313/313 [==============================] - 1s 1ms/step - loss: 0.0953 - accuracy: 0.9661\n",
            "[test loss, test accuracy]: [0.09534787386655807, 0.9660999774932861]\n"
          ],
          "name": "stdout"
        }
      ]
    }
  ]
}