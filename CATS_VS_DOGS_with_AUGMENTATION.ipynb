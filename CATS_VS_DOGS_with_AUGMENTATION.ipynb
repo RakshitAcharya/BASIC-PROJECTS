{
  "nbformat": 4,
  "nbformat_minor": 0,
  "metadata": {
    "colab": {
      "name": "CATS VS DOGS with AUGMENTATION.ipynb",
      "provenance": [],
      "collapsed_sections": []
    },
    "kernelspec": {
      "name": "python3",
      "display_name": "Python 3"
    },
    "accelerator": "GPU"
  },
  "cells": [
    {
      "cell_type": "code",
      "metadata": {
        "colab": {
          "base_uri": "https://localhost:8080/"
        },
        "id": "XAno83YBdih_",
        "outputId": "9d2932d2-15ba-4176-987a-c1495f6c8aa6"
      },
      "source": [
        "!wget --no-check-certificate \\\r\n",
        "  https://storage.googleapis.com/mledu-datasets/cats_and_dogs_filtered.zip \\\r\n",
        "  -O /tmp/cats_and_dogs_filtered.zip"
      ],
      "execution_count": 2,
      "outputs": [
        {
          "output_type": "stream",
          "text": [
            "--2021-02-19 13:32:41--  https://storage.googleapis.com/mledu-datasets/cats_and_dogs_filtered.zip\n",
            "Resolving storage.googleapis.com (storage.googleapis.com)... 172.217.164.176, 172.217.7.176, 172.217.9.208, ...\n",
            "Connecting to storage.googleapis.com (storage.googleapis.com)|172.217.164.176|:443... connected.\n",
            "HTTP request sent, awaiting response... 200 OK\n",
            "Length: 68606236 (65M) [application/zip]\n",
            "Saving to: ‘/tmp/cats_and_dogs_filtered.zip’\n",
            "\n",
            "/tmp/cats_and_dogs_ 100%[===================>]  65.43M   122MB/s    in 0.5s    \n",
            "\n",
            "2021-02-19 13:32:41 (122 MB/s) - ‘/tmp/cats_and_dogs_filtered.zip’ saved [68606236/68606236]\n",
            "\n"
          ],
          "name": "stdout"
        }
      ]
    },
    {
      "cell_type": "code",
      "metadata": {
        "id": "yycccnf3dk9t"
      },
      "source": [
        "import os\r\n",
        "import zipfile\r\n",
        "import tensorflow as tf\r\n",
        "from tensorflow.keras.optimizers import RMSprop\r\n",
        "from tensorflow.keras.preprocessing.image import ImageDataGenerator"
      ],
      "execution_count": 3,
      "outputs": []
    },
    {
      "cell_type": "markdown",
      "metadata": {
        "id": "-SWxQNi-d2kD"
      },
      "source": [
        "#DATA COLLECTION"
      ]
    },
    {
      "cell_type": "code",
      "metadata": {
        "id": "iow-9xXdd0z7"
      },
      "source": [
        "local_zip = '/tmp/cats_and_dogs_filtered.zip'\r\n",
        "zip_ref = zipfile.ZipFile(local_zip, 'r')\r\n",
        "zip_ref.extractall('/tmp')\r\n",
        "zip_ref.close()"
      ],
      "execution_count": 4,
      "outputs": []
    },
    {
      "cell_type": "code",
      "metadata": {
        "id": "suKQ2WOzd-Ww"
      },
      "source": [
        "base_dir = '/tmp/cats_and_dogs_filtered'\r\n",
        "train_dir = os.path.join(base_dir, 'train')\r\n",
        "validation_dir = os.path.join(base_dir, 'validation')\r\n",
        "# Directory with our training cat pictures\r\n",
        "train_cats_dir = os.path.join(train_dir, 'cats')\r\n",
        "\r\n",
        "# Directory with our training dog pictures\r\n",
        "train_dogs_dir = os.path.join(train_dir, 'dogs')\r\n",
        "\r\n",
        "# Directory with our validation cat pictures\r\n",
        "validation_cats_dir = os.path.join(validation_dir, 'cats')\r\n",
        "\r\n",
        "# Directory with our validation dog pictures\r\n",
        "validation_dogs_dir = os.path.join(validation_dir, 'dogs')"
      ],
      "execution_count": 5,
      "outputs": []
    },
    {
      "cell_type": "markdown",
      "metadata": {
        "id": "OUKwu371eL63"
      },
      "source": [
        "# MODEL BUILDING"
      ]
    },
    {
      "cell_type": "code",
      "metadata": {
        "id": "UcHPPEJweCS0"
      },
      "source": [
        "model = tf.keras.models.Sequential([\r\n",
        "    tf.keras.layers.Conv2D(32, (3,3), activation='relu', input_shape=(150, 150, 3)),\r\n",
        "    tf.keras.layers.MaxPooling2D(2, 2),\r\n",
        "    tf.keras.layers.Conv2D(64, (3,3), activation='relu'),\r\n",
        "    tf.keras.layers.MaxPooling2D(2,2),\r\n",
        "    tf.keras.layers.Conv2D(128, (3,3), activation='relu'),\r\n",
        "    tf.keras.layers.MaxPooling2D(2,2),\r\n",
        "    tf.keras.layers.Conv2D(128, (3,3), activation='relu'),\r\n",
        "    tf.keras.layers.MaxPooling2D(2,2),\r\n",
        "    tf.keras.layers.Flatten(),\r\n",
        "    tf.keras.layers.Dense(512, activation='relu'),\r\n",
        "    tf.keras.layers.Dense(1, activation='sigmoid')\r\n",
        "])"
      ],
      "execution_count": 6,
      "outputs": []
    },
    {
      "cell_type": "code",
      "metadata": {
        "colab": {
          "base_uri": "https://localhost:8080/"
        },
        "id": "Ka76V7AaePKh",
        "outputId": "c7614997-9119-4a3f-dcfd-75f8846b032c"
      },
      "source": [
        "model.summary()"
      ],
      "execution_count": 7,
      "outputs": [
        {
          "output_type": "stream",
          "text": [
            "Model: \"sequential\"\n",
            "_________________________________________________________________\n",
            "Layer (type)                 Output Shape              Param #   \n",
            "=================================================================\n",
            "conv2d (Conv2D)              (None, 148, 148, 32)      896       \n",
            "_________________________________________________________________\n",
            "max_pooling2d (MaxPooling2D) (None, 74, 74, 32)        0         \n",
            "_________________________________________________________________\n",
            "conv2d_1 (Conv2D)            (None, 72, 72, 64)        18496     \n",
            "_________________________________________________________________\n",
            "max_pooling2d_1 (MaxPooling2 (None, 36, 36, 64)        0         \n",
            "_________________________________________________________________\n",
            "conv2d_2 (Conv2D)            (None, 34, 34, 128)       73856     \n",
            "_________________________________________________________________\n",
            "max_pooling2d_2 (MaxPooling2 (None, 17, 17, 128)       0         \n",
            "_________________________________________________________________\n",
            "conv2d_3 (Conv2D)            (None, 15, 15, 128)       147584    \n",
            "_________________________________________________________________\n",
            "max_pooling2d_3 (MaxPooling2 (None, 7, 7, 128)         0         \n",
            "_________________________________________________________________\n",
            "flatten (Flatten)            (None, 6272)              0         \n",
            "_________________________________________________________________\n",
            "dense (Dense)                (None, 512)               3211776   \n",
            "_________________________________________________________________\n",
            "dense_1 (Dense)              (None, 1)                 513       \n",
            "=================================================================\n",
            "Total params: 3,453,121\n",
            "Trainable params: 3,453,121\n",
            "Non-trainable params: 0\n",
            "_________________________________________________________________\n"
          ],
          "name": "stdout"
        }
      ]
    },
    {
      "cell_type": "code",
      "metadata": {
        "id": "cbLKDO-keR87"
      },
      "source": [
        "model.compile(loss='binary_crossentropy',\r\n",
        "              optimizer=RMSprop(lr=1e-4),\r\n",
        "              metrics=['accuracy'])\r\n"
      ],
      "execution_count": 8,
      "outputs": []
    },
    {
      "cell_type": "markdown",
      "metadata": {
        "id": "_h33Ggcaeelr"
      },
      "source": [
        "#ImageDataGenerator with Augmentation"
      ]
    },
    {
      "cell_type": "code",
      "metadata": {
        "id": "OR0fJETWeUzT"
      },
      "source": [
        "train_datagen = ImageDataGenerator(\r\n",
        "      rescale=1./255,\r\n",
        "      rotation_range=40,\r\n",
        "      width_shift_range=0.2,\r\n",
        "      height_shift_range=0.2,\r\n",
        "      shear_range=0.2,\r\n",
        "      zoom_range=0.2,\r\n",
        "      horizontal_flip=True,\r\n",
        "      fill_mode='nearest')\r\n",
        "\r\n",
        "test_datagen = ImageDataGenerator(rescale=1./255)"
      ],
      "execution_count": 9,
      "outputs": []
    },
    {
      "cell_type": "code",
      "metadata": {
        "colab": {
          "base_uri": "https://localhost:8080/"
        },
        "id": "7rcCV9ZLer61",
        "outputId": "be7837e7-ec6b-44a9-a9e4-86c18953ad30"
      },
      "source": [
        "train_generator = train_datagen.flow_from_directory(\r\n",
        "        train_dir,  # This is the source directory for training images\r\n",
        "        target_size=(150, 150),  # All images will be resized to 150x150\r\n",
        "        batch_size=20,\r\n",
        "        # Since we use binary_crossentropy loss, we need binary labels\r\n",
        "        class_mode='binary')\r\n",
        "\r\n",
        "# Flow validation images in batches of 20 using test_datagen generator\r\n",
        "validation_generator = test_datagen.flow_from_directory(\r\n",
        "        validation_dir,\r\n",
        "        target_size=(150, 150),\r\n",
        "        batch_size=20,\r\n",
        "        class_mode='binary')"
      ],
      "execution_count": 10,
      "outputs": [
        {
          "output_type": "stream",
          "text": [
            "Found 2000 images belonging to 2 classes.\n",
            "Found 1000 images belonging to 2 classes.\n"
          ],
          "name": "stdout"
        }
      ]
    },
    {
      "cell_type": "markdown",
      "metadata": {
        "id": "XAkzPyDiezB_"
      },
      "source": [
        "# MODEL FIT"
      ]
    },
    {
      "cell_type": "code",
      "metadata": {
        "colab": {
          "base_uri": "https://localhost:8080/"
        },
        "id": "XUrxH_f-evwz",
        "outputId": "65cb6e9d-2ebb-4971-a51e-48c2e5a7373d"
      },
      "source": [
        "history = model.fit(\r\n",
        "      train_generator,\r\n",
        "      steps_per_epoch=100,  # 2000 images = batch_size * steps\r\n",
        "      epochs=100,\r\n",
        "      validation_data=validation_generator,\r\n",
        "      validation_steps=50,  # 1000 images = batch_size * steps\r\n",
        "      verbose=2)"
      ],
      "execution_count": 11,
      "outputs": [
        {
          "output_type": "stream",
          "text": [
            "Epoch 1/100\n",
            "100/100 - 24s - loss: 0.6933 - accuracy: 0.5095 - val_loss: 0.6825 - val_accuracy: 0.6250\n",
            "Epoch 2/100\n",
            "100/100 - 16s - loss: 0.6827 - accuracy: 0.5585 - val_loss: 0.6587 - val_accuracy: 0.6070\n",
            "Epoch 3/100\n",
            "100/100 - 16s - loss: 0.6696 - accuracy: 0.5890 - val_loss: 0.6344 - val_accuracy: 0.6450\n",
            "Epoch 4/100\n",
            "100/100 - 16s - loss: 0.6586 - accuracy: 0.6235 - val_loss: 0.6115 - val_accuracy: 0.6690\n",
            "Epoch 5/100\n",
            "100/100 - 16s - loss: 0.6450 - accuracy: 0.6360 - val_loss: 0.6044 - val_accuracy: 0.6790\n",
            "Epoch 6/100\n",
            "100/100 - 16s - loss: 0.6273 - accuracy: 0.6375 - val_loss: 0.5768 - val_accuracy: 0.7120\n",
            "Epoch 7/100\n",
            "100/100 - 16s - loss: 0.6176 - accuracy: 0.6585 - val_loss: 0.6252 - val_accuracy: 0.6360\n",
            "Epoch 8/100\n",
            "100/100 - 16s - loss: 0.6164 - accuracy: 0.6815 - val_loss: 0.5602 - val_accuracy: 0.6960\n",
            "Epoch 9/100\n",
            "100/100 - 16s - loss: 0.6062 - accuracy: 0.6560 - val_loss: 0.5472 - val_accuracy: 0.7130\n",
            "Epoch 10/100\n",
            "100/100 - 16s - loss: 0.5931 - accuracy: 0.6810 - val_loss: 0.5788 - val_accuracy: 0.6800\n",
            "Epoch 11/100\n",
            "100/100 - 16s - loss: 0.5898 - accuracy: 0.6835 - val_loss: 0.5603 - val_accuracy: 0.7010\n",
            "Epoch 12/100\n",
            "100/100 - 16s - loss: 0.5871 - accuracy: 0.6910 - val_loss: 0.6310 - val_accuracy: 0.6460\n",
            "Epoch 13/100\n",
            "100/100 - 16s - loss: 0.5841 - accuracy: 0.6920 - val_loss: 0.5334 - val_accuracy: 0.7230\n",
            "Epoch 14/100\n",
            "100/100 - 16s - loss: 0.5698 - accuracy: 0.7015 - val_loss: 0.5236 - val_accuracy: 0.7320\n",
            "Epoch 15/100\n",
            "100/100 - 16s - loss: 0.5571 - accuracy: 0.7130 - val_loss: 0.5233 - val_accuracy: 0.7210\n",
            "Epoch 16/100\n",
            "100/100 - 16s - loss: 0.5626 - accuracy: 0.7180 - val_loss: 0.5533 - val_accuracy: 0.6970\n",
            "Epoch 17/100\n",
            "100/100 - 16s - loss: 0.5569 - accuracy: 0.7035 - val_loss: 0.5575 - val_accuracy: 0.6960\n",
            "Epoch 18/100\n",
            "100/100 - 16s - loss: 0.5523 - accuracy: 0.7090 - val_loss: 0.5349 - val_accuracy: 0.7200\n",
            "Epoch 19/100\n",
            "100/100 - 16s - loss: 0.5379 - accuracy: 0.7275 - val_loss: 0.4965 - val_accuracy: 0.7460\n",
            "Epoch 20/100\n",
            "100/100 - 16s - loss: 0.5367 - accuracy: 0.7240 - val_loss: 0.4975 - val_accuracy: 0.7390\n",
            "Epoch 21/100\n",
            "100/100 - 16s - loss: 0.5360 - accuracy: 0.7230 - val_loss: 0.5112 - val_accuracy: 0.7300\n",
            "Epoch 22/100\n",
            "100/100 - 16s - loss: 0.5342 - accuracy: 0.7300 - val_loss: 0.4940 - val_accuracy: 0.7380\n",
            "Epoch 23/100\n",
            "100/100 - 16s - loss: 0.5346 - accuracy: 0.7250 - val_loss: 0.5180 - val_accuracy: 0.7320\n",
            "Epoch 24/100\n",
            "100/100 - 16s - loss: 0.5208 - accuracy: 0.7350 - val_loss: 0.4946 - val_accuracy: 0.7420\n",
            "Epoch 25/100\n",
            "100/100 - 16s - loss: 0.5237 - accuracy: 0.7450 - val_loss: 0.5555 - val_accuracy: 0.7110\n",
            "Epoch 26/100\n",
            "100/100 - 16s - loss: 0.5254 - accuracy: 0.7430 - val_loss: 0.4858 - val_accuracy: 0.7630\n",
            "Epoch 27/100\n",
            "100/100 - 16s - loss: 0.5225 - accuracy: 0.7310 - val_loss: 0.5135 - val_accuracy: 0.7230\n",
            "Epoch 28/100\n",
            "100/100 - 16s - loss: 0.5209 - accuracy: 0.7435 - val_loss: 0.5082 - val_accuracy: 0.7350\n",
            "Epoch 29/100\n",
            "100/100 - 16s - loss: 0.5061 - accuracy: 0.7450 - val_loss: 0.5141 - val_accuracy: 0.7360\n",
            "Epoch 30/100\n",
            "100/100 - 16s - loss: 0.5173 - accuracy: 0.7420 - val_loss: 0.5291 - val_accuracy: 0.7280\n",
            "Epoch 31/100\n",
            "100/100 - 16s - loss: 0.4888 - accuracy: 0.7515 - val_loss: 0.4675 - val_accuracy: 0.7610\n",
            "Epoch 32/100\n",
            "100/100 - 16s - loss: 0.5078 - accuracy: 0.7440 - val_loss: 0.5372 - val_accuracy: 0.7320\n",
            "Epoch 33/100\n",
            "100/100 - 16s - loss: 0.4963 - accuracy: 0.7540 - val_loss: 0.4675 - val_accuracy: 0.7680\n",
            "Epoch 34/100\n",
            "100/100 - 16s - loss: 0.5030 - accuracy: 0.7475 - val_loss: 0.4782 - val_accuracy: 0.7530\n",
            "Epoch 35/100\n",
            "100/100 - 16s - loss: 0.4965 - accuracy: 0.7585 - val_loss: 0.4967 - val_accuracy: 0.7590\n",
            "Epoch 36/100\n",
            "100/100 - 16s - loss: 0.4950 - accuracy: 0.7645 - val_loss: 0.4859 - val_accuracy: 0.7570\n",
            "Epoch 37/100\n",
            "100/100 - 16s - loss: 0.4921 - accuracy: 0.7590 - val_loss: 0.4851 - val_accuracy: 0.7570\n",
            "Epoch 38/100\n",
            "100/100 - 16s - loss: 0.4895 - accuracy: 0.7555 - val_loss: 0.4983 - val_accuracy: 0.7420\n",
            "Epoch 39/100\n",
            "100/100 - 16s - loss: 0.4860 - accuracy: 0.7545 - val_loss: 0.5309 - val_accuracy: 0.7410\n",
            "Epoch 40/100\n",
            "100/100 - 16s - loss: 0.4725 - accuracy: 0.7680 - val_loss: 0.4448 - val_accuracy: 0.7850\n",
            "Epoch 41/100\n",
            "100/100 - 16s - loss: 0.4858 - accuracy: 0.7620 - val_loss: 0.4564 - val_accuracy: 0.7870\n",
            "Epoch 42/100\n",
            "100/100 - 16s - loss: 0.4684 - accuracy: 0.7715 - val_loss: 0.4436 - val_accuracy: 0.7870\n",
            "Epoch 43/100\n",
            "100/100 - 16s - loss: 0.4882 - accuracy: 0.7615 - val_loss: 0.4807 - val_accuracy: 0.7610\n",
            "Epoch 44/100\n",
            "100/100 - 16s - loss: 0.4670 - accuracy: 0.7835 - val_loss: 0.4815 - val_accuracy: 0.7470\n",
            "Epoch 45/100\n",
            "100/100 - 16s - loss: 0.4697 - accuracy: 0.7685 - val_loss: 0.4464 - val_accuracy: 0.7850\n",
            "Epoch 46/100\n",
            "100/100 - 16s - loss: 0.4726 - accuracy: 0.7740 - val_loss: 0.4789 - val_accuracy: 0.7850\n",
            "Epoch 47/100\n",
            "100/100 - 16s - loss: 0.4525 - accuracy: 0.7870 - val_loss: 0.4998 - val_accuracy: 0.7640\n",
            "Epoch 48/100\n",
            "100/100 - 16s - loss: 0.4638 - accuracy: 0.7770 - val_loss: 0.4468 - val_accuracy: 0.7850\n",
            "Epoch 49/100\n",
            "100/100 - 16s - loss: 0.4631 - accuracy: 0.7735 - val_loss: 0.4878 - val_accuracy: 0.7550\n",
            "Epoch 50/100\n",
            "100/100 - 16s - loss: 0.4691 - accuracy: 0.7760 - val_loss: 0.4608 - val_accuracy: 0.7770\n",
            "Epoch 51/100\n",
            "100/100 - 16s - loss: 0.4354 - accuracy: 0.8020 - val_loss: 0.4425 - val_accuracy: 0.7940\n",
            "Epoch 52/100\n",
            "100/100 - 16s - loss: 0.4453 - accuracy: 0.7960 - val_loss: 0.4567 - val_accuracy: 0.7810\n",
            "Epoch 53/100\n",
            "100/100 - 16s - loss: 0.4607 - accuracy: 0.7825 - val_loss: 0.4358 - val_accuracy: 0.7990\n",
            "Epoch 54/100\n",
            "100/100 - 16s - loss: 0.4462 - accuracy: 0.7905 - val_loss: 0.4385 - val_accuracy: 0.7860\n",
            "Epoch 55/100\n",
            "100/100 - 16s - loss: 0.4483 - accuracy: 0.7870 - val_loss: 0.4278 - val_accuracy: 0.7980\n",
            "Epoch 56/100\n",
            "100/100 - 16s - loss: 0.4448 - accuracy: 0.7895 - val_loss: 0.4530 - val_accuracy: 0.7910\n",
            "Epoch 57/100\n",
            "100/100 - 16s - loss: 0.4370 - accuracy: 0.7820 - val_loss: 0.4813 - val_accuracy: 0.7580\n",
            "Epoch 58/100\n",
            "100/100 - 16s - loss: 0.4440 - accuracy: 0.7865 - val_loss: 0.4222 - val_accuracy: 0.8020\n",
            "Epoch 59/100\n",
            "100/100 - 16s - loss: 0.4234 - accuracy: 0.7960 - val_loss: 0.4250 - val_accuracy: 0.8020\n",
            "Epoch 60/100\n",
            "100/100 - 16s - loss: 0.4366 - accuracy: 0.8035 - val_loss: 0.4213 - val_accuracy: 0.8020\n",
            "Epoch 61/100\n",
            "100/100 - 16s - loss: 0.4126 - accuracy: 0.8090 - val_loss: 0.4246 - val_accuracy: 0.8130\n",
            "Epoch 62/100\n",
            "100/100 - 16s - loss: 0.4335 - accuracy: 0.7935 - val_loss: 0.4206 - val_accuracy: 0.7920\n",
            "Epoch 63/100\n",
            "100/100 - 16s - loss: 0.4284 - accuracy: 0.8070 - val_loss: 0.4296 - val_accuracy: 0.8040\n",
            "Epoch 64/100\n",
            "100/100 - 16s - loss: 0.4303 - accuracy: 0.8000 - val_loss: 0.4308 - val_accuracy: 0.7980\n",
            "Epoch 65/100\n",
            "100/100 - 16s - loss: 0.4221 - accuracy: 0.8020 - val_loss: 0.4044 - val_accuracy: 0.8140\n",
            "Epoch 66/100\n",
            "100/100 - 16s - loss: 0.4153 - accuracy: 0.8050 - val_loss: 0.4458 - val_accuracy: 0.7980\n",
            "Epoch 67/100\n",
            "100/100 - 16s - loss: 0.4050 - accuracy: 0.8145 - val_loss: 0.4039 - val_accuracy: 0.8090\n",
            "Epoch 68/100\n",
            "100/100 - 16s - loss: 0.4250 - accuracy: 0.8165 - val_loss: 0.3963 - val_accuracy: 0.8210\n",
            "Epoch 69/100\n",
            "100/100 - 16s - loss: 0.4125 - accuracy: 0.8150 - val_loss: 0.4767 - val_accuracy: 0.7850\n",
            "Epoch 70/100\n",
            "100/100 - 16s - loss: 0.4083 - accuracy: 0.8210 - val_loss: 0.4266 - val_accuracy: 0.7970\n",
            "Epoch 71/100\n",
            "100/100 - 16s - loss: 0.4071 - accuracy: 0.8220 - val_loss: 0.4467 - val_accuracy: 0.7990\n",
            "Epoch 72/100\n",
            "100/100 - 16s - loss: 0.4058 - accuracy: 0.8090 - val_loss: 0.4155 - val_accuracy: 0.8130\n",
            "Epoch 73/100\n",
            "100/100 - 16s - loss: 0.4026 - accuracy: 0.8205 - val_loss: 0.4669 - val_accuracy: 0.8110\n",
            "Epoch 74/100\n",
            "100/100 - 16s - loss: 0.4146 - accuracy: 0.8140 - val_loss: 0.4012 - val_accuracy: 0.8320\n",
            "Epoch 75/100\n",
            "100/100 - 16s - loss: 0.4052 - accuracy: 0.8135 - val_loss: 0.4068 - val_accuracy: 0.8190\n",
            "Epoch 76/100\n",
            "100/100 - 16s - loss: 0.3868 - accuracy: 0.8185 - val_loss: 0.4387 - val_accuracy: 0.7980\n",
            "Epoch 77/100\n",
            "100/100 - 16s - loss: 0.3890 - accuracy: 0.8180 - val_loss: 0.3960 - val_accuracy: 0.8110\n",
            "Epoch 78/100\n",
            "100/100 - 16s - loss: 0.3893 - accuracy: 0.8295 - val_loss: 0.4041 - val_accuracy: 0.8180\n",
            "Epoch 79/100\n",
            "100/100 - 16s - loss: 0.4029 - accuracy: 0.8240 - val_loss: 0.4295 - val_accuracy: 0.8070\n",
            "Epoch 80/100\n",
            "100/100 - 16s - loss: 0.3840 - accuracy: 0.8285 - val_loss: 0.3988 - val_accuracy: 0.8180\n",
            "Epoch 81/100\n",
            "100/100 - 16s - loss: 0.3837 - accuracy: 0.8195 - val_loss: 0.5778 - val_accuracy: 0.7510\n",
            "Epoch 82/100\n",
            "100/100 - 16s - loss: 0.3839 - accuracy: 0.8265 - val_loss: 0.4074 - val_accuracy: 0.8120\n",
            "Epoch 83/100\n",
            "100/100 - 16s - loss: 0.3802 - accuracy: 0.8335 - val_loss: 0.4145 - val_accuracy: 0.8140\n",
            "Epoch 84/100\n",
            "100/100 - 16s - loss: 0.3802 - accuracy: 0.8420 - val_loss: 0.4065 - val_accuracy: 0.8180\n",
            "Epoch 85/100\n",
            "100/100 - 16s - loss: 0.3904 - accuracy: 0.8310 - val_loss: 0.4735 - val_accuracy: 0.7850\n",
            "Epoch 86/100\n",
            "100/100 - 16s - loss: 0.3636 - accuracy: 0.8400 - val_loss: 0.4125 - val_accuracy: 0.8270\n",
            "Epoch 87/100\n",
            "100/100 - 16s - loss: 0.3738 - accuracy: 0.8305 - val_loss: 0.4403 - val_accuracy: 0.8030\n",
            "Epoch 88/100\n",
            "100/100 - 16s - loss: 0.3733 - accuracy: 0.8305 - val_loss: 0.4191 - val_accuracy: 0.8080\n",
            "Epoch 89/100\n",
            "100/100 - 16s - loss: 0.3697 - accuracy: 0.8415 - val_loss: 0.3933 - val_accuracy: 0.8210\n",
            "Epoch 90/100\n",
            "100/100 - 16s - loss: 0.3777 - accuracy: 0.8190 - val_loss: 0.3824 - val_accuracy: 0.8160\n",
            "Epoch 91/100\n",
            "100/100 - 16s - loss: 0.3624 - accuracy: 0.8420 - val_loss: 0.4060 - val_accuracy: 0.8170\n",
            "Epoch 92/100\n",
            "100/100 - 16s - loss: 0.3519 - accuracy: 0.8385 - val_loss: 0.4051 - val_accuracy: 0.8310\n",
            "Epoch 93/100\n",
            "100/100 - 16s - loss: 0.3629 - accuracy: 0.8415 - val_loss: 0.4071 - val_accuracy: 0.8190\n",
            "Epoch 94/100\n",
            "100/100 - 16s - loss: 0.3679 - accuracy: 0.8330 - val_loss: 0.3710 - val_accuracy: 0.8310\n",
            "Epoch 95/100\n",
            "100/100 - 16s - loss: 0.3408 - accuracy: 0.8480 - val_loss: 0.4082 - val_accuracy: 0.8160\n",
            "Epoch 96/100\n",
            "100/100 - 16s - loss: 0.3578 - accuracy: 0.8395 - val_loss: 0.3689 - val_accuracy: 0.8410\n",
            "Epoch 97/100\n",
            "100/100 - 16s - loss: 0.3398 - accuracy: 0.8510 - val_loss: 0.4115 - val_accuracy: 0.8330\n",
            "Epoch 98/100\n",
            "100/100 - 16s - loss: 0.3530 - accuracy: 0.8475 - val_loss: 0.3998 - val_accuracy: 0.8230\n",
            "Epoch 99/100\n",
            "100/100 - 16s - loss: 0.3586 - accuracy: 0.8400 - val_loss: 0.4198 - val_accuracy: 0.8040\n",
            "Epoch 100/100\n",
            "100/100 - 16s - loss: 0.3460 - accuracy: 0.8480 - val_loss: 0.3688 - val_accuracy: 0.8340\n"
          ],
          "name": "stdout"
        }
      ]
    },
    {
      "cell_type": "markdown",
      "metadata": {
        "id": "3rIsVHC5mQEO"
      },
      "source": [
        "# VISULAIZING THE RESULTS"
      ]
    },
    {
      "cell_type": "code",
      "metadata": {
        "id": "NmKlO03te3Bb"
      },
      "source": [
        "import matplotlib.pyplot as plt\r\n",
        "acc = history.history['accuracy']\r\n",
        "val_acc = history.history['val_accuracy']\r\n",
        "loss = history.history['loss']\r\n",
        "val_loss = history.history['val_loss']\r\n"
      ],
      "execution_count": 13,
      "outputs": []
    },
    {
      "cell_type": "code",
      "metadata": {
        "colab": {
          "base_uri": "https://localhost:8080/",
          "height": 281
        },
        "id": "txXJfgvUmU9Z",
        "outputId": "6c930e6e-811a-4297-96ce-7c7c48f7584b"
      },
      "source": [
        "plt.plot(epochs, acc,color=\"orange\" ,label='Training accuracy')\r\n",
        "plt.plot(epochs, val_acc, 'b', label='Validation accuracy')\r\n",
        "plt.title('Training and validation accuracy')\r\n",
        "plt.legend();\r\n"
      ],
      "execution_count": 18,
      "outputs": [
        {
          "output_type": "display_data",
          "data": {
            "image/png": "[encoded data removed]",
            "text/plain": [
              "<Figure size 432x288 with 1 Axes>"
            ]
          },
          "metadata": {
            "tags": [],
            "needs_background": "light"
          }
        }
      ]
    },
    {
      "cell_type": "code",
      "metadata": {
        "colab": {
          "base_uri": "https://localhost:8080/",
          "height": 281
        },
        "id": "mjgXw2x0mhVC",
        "outputId": "87f883fa-fbbc-4170-84a9-f890354a273f"
      },
      "source": [
        "plt.plot(epochs, loss, color=\"orange\", label='Training Loss')\r\n",
        "plt.plot(epochs, val_loss, 'b', label='Validation Loss')\r\n",
        "plt.title('Training and validation loss')\r\n",
        "plt.legend();"
      ],
      "execution_count": 19,
      "outputs": [
        {
          "output_type": "display_data",
          "data": {
            "image/png": "[encoded data removed]",
            "text/plain": [
              "<Figure size 432x288 with 1 Axes>"
            ]
          },
          "metadata": {
            "tags": [],
            "needs_background": "light"
          }
        }
      ]
    },
    {
      "cell_type": "code",
      "metadata": {
        "id": "VY_nrEmunFja"
      },
      "source": [
        ""
      ],
      "execution_count": null,
      "outputs": []
    }
  ]
}